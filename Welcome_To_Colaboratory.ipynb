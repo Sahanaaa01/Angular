{
  "cells": [
    {
      "cell_type": "markdown",
      "metadata": {
        "id": "view-in-github",
        "colab_type": "text"
      },
      "source": [
        "<a href=\"https://colab.research.google.com/github/Sahanaaa01/Angular/blob/new-branch/Welcome_To_Colaboratory.ipynb\" target=\"_parent\"><img src=\"https://colab.research.google.com/assets/colab-badge.svg\" alt=\"Open In Colab\"/></a>"
      ]
    },
    {
      "cell_type": "markdown",
      "source": [
        "30 Sep - day3"
      ],
      "metadata": {
        "id": "rFo8Iv3IlNLa"
      }
    },
    {
      "cell_type": "markdown",
      "source": [
        "operators"
      ],
      "metadata": {
        "id": "bPGC1QqFlRZh"
      }
    },
    {
      "cell_type": "code",
      "source": [
        "10 % 7"
      ],
      "metadata": {
        "id": "aQTaeyT5Sz1P",
        "outputId": "287d1bb5-6354-4208-961e-01037b29ce66",
        "colab": {
          "base_uri": "https://localhost:8080/",
          "height": 0
        }
      },
      "execution_count": 47,
      "outputs": [
        {
          "output_type": "execute_result",
          "data": {
            "text/plain": [
              "3"
            ]
          },
          "metadata": {},
          "execution_count": 47
        }
      ]
    },
    {
      "cell_type": "code",
      "source": [
        "-10 % 7 "
      ],
      "metadata": {
        "id": "UKqnTnz5S2Mz",
        "outputId": "b860b5e9-8189-4a9c-c1dc-8fd8b32f2510",
        "colab": {
          "base_uri": "https://localhost:8080/",
          "height": 0
        }
      },
      "execution_count": 48,
      "outputs": [
        {
          "output_type": "execute_result",
          "data": {
            "text/plain": [
              "4"
            ]
          },
          "metadata": {},
          "execution_count": 48
        }
      ]
    },
    {
      "cell_type": "code",
      "source": [
        "10 % -7"
      ],
      "metadata": {
        "id": "oQw97ez4S2WX",
        "outputId": "2ab1bae6-1128-42be-cbe9-1448db8d8081",
        "colab": {
          "base_uri": "https://localhost:8080/",
          "height": 0
        }
      },
      "execution_count": 49,
      "outputs": [
        {
          "output_type": "execute_result",
          "data": {
            "text/plain": [
              "-4"
            ]
          },
          "metadata": {},
          "execution_count": 49
        }
      ]
    },
    {
      "cell_type": "code",
      "source": [
        "2==4"
      ],
      "metadata": {
        "id": "dnPk0orgTgPj",
        "outputId": "ee519809-443b-4f1e-f53b-fe4a52c2c0ac",
        "colab": {
          "base_uri": "https://localhost:8080/",
          "height": 0
        }
      },
      "execution_count": 50,
      "outputs": [
        {
          "output_type": "execute_result",
          "data": {
            "text/plain": [
              "False"
            ]
          },
          "metadata": {},
          "execution_count": 50
        }
      ]
    },
    {
      "cell_type": "code",
      "source": [
        "3=='3'"
      ],
      "metadata": {
        "id": "DKZsKEpKTgS8",
        "outputId": "59409692-74e1-416d-8310-9fc241b295bc",
        "colab": {
          "base_uri": "https://localhost:8080/",
          "height": 0
        }
      },
      "execution_count": 51,
      "outputs": [
        {
          "output_type": "execute_result",
          "data": {
            "text/plain": [
              "False"
            ]
          },
          "metadata": {},
          "execution_count": 51
        }
      ]
    },
    {
      "cell_type": "code",
      "source": [
        "\"a\" < \"aa\""
      ],
      "metadata": {
        "id": "xA7JYEqFTlJ_",
        "outputId": "ccd1e71b-bdf3-45a4-f218-6688ceb734ad",
        "colab": {
          "base_uri": "https://localhost:8080/",
          "height": 0
        }
      },
      "execution_count": 52,
      "outputs": [
        {
          "output_type": "execute_result",
          "data": {
            "text/plain": [
              "True"
            ]
          },
          "metadata": {},
          "execution_count": 52
        }
      ]
    },
    {
      "cell_type": "code",
      "source": [
        "\"a\" < \"A\""
      ],
      "metadata": {
        "id": "iAQ73ncXTlNc",
        "outputId": "9bf90108-1aa3-473d-a7b1-6a8e2c614d28",
        "colab": {
          "base_uri": "https://localhost:8080/",
          "height": 0
        }
      },
      "execution_count": 53,
      "outputs": [
        {
          "output_type": "execute_result",
          "data": {
            "text/plain": [
              "False"
            ]
          },
          "metadata": {},
          "execution_count": 53
        }
      ]
    },
    {
      "cell_type": "markdown",
      "source": [
        "checks ascii value"
      ],
      "metadata": {
        "id": "JmoJti94UO5k"
      }
    },
    {
      "cell_type": "code",
      "source": [
        "\"b\" > \"B\""
      ],
      "metadata": {
        "id": "fUNVgcE2UHW2",
        "outputId": "4205162d-e6b3-44a0-a4a0-5b2a692e9ffe",
        "colab": {
          "base_uri": "https://localhost:8080/",
          "height": 0
        }
      },
      "execution_count": 54,
      "outputs": [
        {
          "output_type": "execute_result",
          "data": {
            "text/plain": [
              "True"
            ]
          },
          "metadata": {},
          "execution_count": 54
        }
      ]
    },
    {
      "cell_type": "code",
      "source": [
        "[1,2,3]==[1,2,3]"
      ],
      "metadata": {
        "id": "foXX_o03UcZz",
        "outputId": "83de34e2-239f-47d6-b3d8-9bb9c27546f3",
        "colab": {
          "base_uri": "https://localhost:8080/",
          "height": 0
        }
      },
      "execution_count": 57,
      "outputs": [
        {
          "output_type": "execute_result",
          "data": {
            "text/plain": [
              "True"
            ]
          },
          "metadata": {},
          "execution_count": 57
        }
      ]
    },
    {
      "cell_type": "markdown",
      "source": [
        "this == equals the content in it"
      ],
      "metadata": {
        "id": "c4eDUqSoUuXZ"
      }
    },
    {
      "cell_type": "code",
      "source": [
        "[1,2,3] is [1,2,3]"
      ],
      "metadata": {
        "id": "Ju6_uxyaUcjx",
        "outputId": "844dd7dd-9066-4359-b27b-d2ffd4927aa7",
        "colab": {
          "base_uri": "https://localhost:8080/",
          "height": 0
        }
      },
      "execution_count": 58,
      "outputs": [
        {
          "output_type": "execute_result",
          "data": {
            "text/plain": [
              "False"
            ]
          },
          "metadata": {},
          "execution_count": 58
        }
      ]
    },
    {
      "cell_type": "markdown",
      "source": [
        "ex:  2 bottles cannot be same so false"
      ],
      "metadata": {
        "id": "9GpsZ7KeU83e"
      }
    },
    {
      "cell_type": "markdown",
      "source": [
        "list of comprehnsive"
      ],
      "metadata": {
        "id": "_z6qdCCEWwgB"
      }
    },
    {
      "cell_type": "code",
      "source": [
        "listofwords = [\"list\",\"of\",\"wrds\"]"
      ],
      "metadata": {
        "id": "SVzxSuXbVUFg"
      },
      "execution_count": 59,
      "outputs": []
    },
    {
      "cell_type": "code",
      "source": [
        "items=[ word[0] for word in listofwords]\n",
        "items"
      ],
      "metadata": {
        "id": "gILb7lJAVUQK",
        "outputId": "294c5b93-5628-4358-8875-b78b842c8045",
        "colab": {
          "base_uri": "https://localhost:8080/",
          "height": 0
        }
      },
      "execution_count": 60,
      "outputs": [
        {
          "output_type": "execute_result",
          "data": {
            "text/plain": [
              "['l', 'o', 'w']"
            ]
          },
          "metadata": {},
          "execution_count": 60
        }
      ]
    },
    {
      "cell_type": "markdown",
      "source": [
        "printing frst lettr of each wrd"
      ],
      "metadata": {
        "id": "XYbVM4VnVnrm"
      }
    },
    {
      "cell_type": "markdown",
      "source": [
        "in for loop"
      ],
      "metadata": {
        "id": "gYCV51o0V47x"
      }
    },
    {
      "cell_type": "code",
      "source": [
        "for items in listofwords:\n",
        "  print(items[1])"
      ],
      "metadata": {
        "id": "aPIqhXKDV4ma",
        "outputId": "b932aba3-a591-4e71-a7ae-98f7944e4362",
        "colab": {
          "base_uri": "https://localhost:8080/",
          "height": 0
        }
      },
      "execution_count": 61,
      "outputs": [
        {
          "output_type": "stream",
          "name": "stdout",
          "text": [
            "i\n",
            "f\n",
            "r\n"
          ]
        }
      ]
    },
    {
      "cell_type": "code",
      "source": [
        "item = [x+y for x in 'cat' for y in 'pot']\n",
        "print(item)"
      ],
      "metadata": {
        "id": "tjttIPbwoS_t",
        "outputId": "3f7e73b3-37e6-4f0d-bafb-2abffe56519e",
        "colab": {
          "base_uri": "https://localhost:8080/",
          "height": 0
        }
      },
      "execution_count": 2,
      "outputs": [
        {
          "output_type": "stream",
          "name": "stdout",
          "text": [
            "['cp', 'co', 'ct', 'ap', 'ao', 'at', 'tp', 'to', 'tt']\n"
          ]
        }
      ]
    },
    {
      "cell_type": "code",
      "source": [
        "for x in \"cat\":\n",
        "  for y in \"pot\":\n",
        "    print(x+y)"
      ],
      "metadata": {
        "id": "o65o-UmjoTNH",
        "outputId": "0c07ff72-f954-49b4-ac45-624cecbcd440",
        "colab": {
          "base_uri": "https://localhost:8080/",
          "height": 0
        }
      },
      "execution_count": 3,
      "outputs": [
        {
          "output_type": "stream",
          "name": "stdout",
          "text": [
            "cp\n",
            "co\n",
            "ct\n",
            "ap\n",
            "ao\n",
            "at\n",
            "tp\n",
            "to\n",
            "tt\n"
          ]
        }
      ]
    },
    {
      "cell_type": "markdown",
      "source": [
        "shallow copy"
      ],
      "metadata": {
        "id": "myAc2i9UWiu3"
      }
    },
    {
      "cell_type": "code",
      "source": [
        "l1=[1,'sahana']"
      ],
      "metadata": {
        "id": "_HylywshWjEq"
      },
      "execution_count": 62,
      "outputs": []
    },
    {
      "cell_type": "code",
      "source": [
        "l2=l1[:]\n",
        "l2"
      ],
      "metadata": {
        "id": "BlXX1f3YWi-Y",
        "outputId": "9bf894a5-11f8-4a65-8881-be269de0de48",
        "colab": {
          "base_uri": "https://localhost:8080/",
          "height": 0
        }
      },
      "execution_count": 66,
      "outputs": [
        {
          "output_type": "execute_result",
          "data": {
            "text/plain": [
              "[1, 'sahana']"
            ]
          },
          "metadata": {},
          "execution_count": 66
        }
      ]
    },
    {
      "cell_type": "code",
      "source": [
        "l2[0]=10\n",
        "l2"
      ],
      "metadata": {
        "id": "Vg8kGReqWjPI",
        "outputId": "3b6d6364-cc87-45c8-feb1-aeca429545b4",
        "colab": {
          "base_uri": "https://localhost:8080/",
          "height": 0
        }
      },
      "execution_count": 67,
      "outputs": [
        {
          "output_type": "execute_result",
          "data": {
            "text/plain": [
              "[10, 'sahana']"
            ]
          },
          "metadata": {},
          "execution_count": 67
        }
      ]
    },
    {
      "cell_type": "code",
      "source": [
        "l1"
      ],
      "metadata": {
        "id": "2y_GU7X_XUuN",
        "outputId": "78d13683-740c-4431-9232-f31cb653b1e2",
        "colab": {
          "base_uri": "https://localhost:8080/",
          "height": 0
        }
      },
      "execution_count": 68,
      "outputs": [
        {
          "output_type": "execute_result",
          "data": {
            "text/plain": [
              "[1, 'sahana']"
            ]
          },
          "metadata": {},
          "execution_count": 68
        }
      ]
    },
    {
      "cell_type": "code",
      "source": [],
      "metadata": {
        "id": "h25e0wXJXUxt"
      },
      "execution_count": null,
      "outputs": []
    },
    {
      "cell_type": "code",
      "source": [
        "l3 = l1"
      ],
      "metadata": {
        "id": "Ft6D56Y_XU3A"
      },
      "execution_count": 70,
      "outputs": []
    },
    {
      "cell_type": "code",
      "source": [
        "l3[0] = 25\n",
        "l1"
      ],
      "metadata": {
        "id": "9lYs9jZpXU6m",
        "outputId": "c7fa8598-a008-41f1-bc77-c746f6cb3a7d",
        "colab": {
          "base_uri": "https://localhost:8080/",
          "height": 0
        }
      },
      "execution_count": 71,
      "outputs": [
        {
          "output_type": "execute_result",
          "data": {
            "text/plain": [
              "[25, 'sahana']"
            ]
          },
          "metadata": {},
          "execution_count": 71
        }
      ]
    },
    {
      "cell_type": "code",
      "source": [
        "l3"
      ],
      "metadata": {
        "id": "lq3Sl6QBXj0y",
        "outputId": "29ab8615-39e9-4de6-f3c7-cd8e4553a2db",
        "colab": {
          "base_uri": "https://localhost:8080/",
          "height": 0
        }
      },
      "execution_count": 72,
      "outputs": [
        {
          "output_type": "execute_result",
          "data": {
            "text/plain": [
              "[25, 'sahana']"
            ]
          },
          "metadata": {},
          "execution_count": 72
        }
      ]
    },
    {
      "cell_type": "code",
      "source": [
        "!pwd"
      ],
      "metadata": {
        "id": "OI_4FKmWxHXj",
        "outputId": "2ef20ddd-dccb-4186-fa2c-ee7be407e17d",
        "colab": {
          "base_uri": "https://localhost:8080/",
          "height": 0
        }
      },
      "execution_count": 6,
      "outputs": [
        {
          "metadata": {
            "tags": null
          },
          "name": "stdout",
          "output_type": "stream",
          "text": [
            "/content\n"
          ]
        }
      ]
    },
    {
      "cell_type": "code",
      "source": [
        "f = open(\"test.txt\" ,\"w+\")"
      ],
      "metadata": {
        "id": "nxE_ixvexrh7"
      },
      "execution_count": 7,
      "outputs": []
    },
    {
      "cell_type": "code",
      "source": [
        "with open(\"test.txt\", \"w\") as f:\n",
        "  f.write(\"hi\")\n",
        "  f.write(\"hello\")\n",
        "  f.write(\"yes\")\n",
        "f.close()"
      ],
      "metadata": {
        "id": "DOaNh41E54F6"
      },
      "execution_count": 12,
      "outputs": []
    },
    {
      "cell_type": "code",
      "source": [
        "f=open(\"test.txt\",\"r\")\n",
        "print(f.read())\n",
        "f.close()"
      ],
      "metadata": {
        "id": "ZDH9qqzm6oAs",
        "outputId": "117f9550-ff72-4650-a830-b422d8f37e0b",
        "colab": {
          "base_uri": "https://localhost:8080/",
          "height": 0
        }
      },
      "execution_count": 14,
      "outputs": [
        {
          "output_type": "stream",
          "name": "stdout",
          "text": [
            "This is a file\n",
            " Hi good Morning\n",
            " Hello\n",
            " Yes\n",
            " No\n",
            "\n"
          ]
        }
      ]
    },
    {
      "cell_type": "code",
      "source": [
        "with open(\"test.txt\", \"a\") as f:\n",
        "  f.write(\"sahana\")\n",
        "f.close()"
      ],
      "metadata": {
        "id": "GM15ata_7HwD"
      },
      "execution_count": 15,
      "outputs": []
    },
    {
      "cell_type": "code",
      "source": [
        "f=open(\"test.txt\",\"r\")\n",
        "print(f.read())\n",
        "f.close()"
      ],
      "metadata": {
        "id": "E37K2dty71sG",
        "outputId": "420b1ae5-43e0-41cc-8c05-ddc4085f3347",
        "colab": {
          "base_uri": "https://localhost:8080/",
          "height": 0
        }
      },
      "execution_count": 16,
      "outputs": [
        {
          "output_type": "stream",
          "name": "stdout",
          "text": [
            "This is a file\n",
            " Hi good Morning\n",
            " Hello\n",
            " Yes\n",
            " No\n",
            "sahana\n"
          ]
        }
      ]
    },
    {
      "cell_type": "code",
      "source": [
        "f=open(\"test.txt\",\"r\")\n",
        "f.seek(1)\n",
        "print(f.read())\n",
        "f.close()"
      ],
      "metadata": {
        "id": "rMR8Btju9aD6",
        "outputId": "d0dd2b5d-b63c-4431-d33b-9f374b6a1f62",
        "colab": {
          "base_uri": "https://localhost:8080/",
          "height": 0
        }
      },
      "execution_count": 20,
      "outputs": [
        {
          "output_type": "stream",
          "name": "stdout",
          "text": [
            "his is a file\n",
            " Hi good Morning\n",
            " Hello\n",
            " Yes\n",
            " No\n",
            "sahana\n"
          ]
        }
      ]
    },
    {
      "cell_type": "code",
      "source": [
        "f=open(\"test.txt\",\"r\")\n",
        "f.seek(5)\n",
        "print(f.read())\n",
        "f.close()"
      ],
      "metadata": {
        "id": "8brfFTQeRuo-",
        "outputId": "f3a7d149-6e08-40a6-dc05-f0c95ce40d89",
        "colab": {
          "base_uri": "https://localhost:8080/",
          "height": 0
        }
      },
      "execution_count": 46,
      "outputs": [
        {
          "output_type": "stream",
          "name": "stdout",
          "text": [
            "is a file\n",
            " Hi good Morning\n",
            " Hello\n",
            " Yes\n",
            " No\n",
            "sahana\n"
          ]
        }
      ]
    },
    {
      "cell_type": "markdown",
      "source": [
        "Classes"
      ],
      "metadata": {
        "id": "EG71bParH5wG"
      }
    },
    {
      "cell_type": "code",
      "source": [
        "file1 = open(\"test.txt\",\"w\")\n",
        "\n",
        "for i in range(1,5):\n",
        "  print(i, file=file1)\n",
        "file1.close()"
      ],
      "metadata": {
        "id": "AUBCnThNYtTT"
      },
      "execution_count": 82,
      "outputs": []
    },
    {
      "cell_type": "code",
      "source": [
        "cat test.txt"
      ],
      "metadata": {
        "id": "jLFkpmW-ZD15",
        "outputId": "89ac2f8f-b5af-4c6e-af66-d68b6857253f",
        "colab": {
          "base_uri": "https://localhost:8080/",
          "height": 0
        }
      },
      "execution_count": 83,
      "outputs": [
        {
          "output_type": "stream",
          "name": "stdout",
          "text": [
            "1\n",
            "2\n",
            "3\n",
            "4\n"
          ]
        }
      ]
    },
    {
      "cell_type": "code",
      "source": [
        "class Car:\n",
        "  def __init__(self,name=\"BMW\"):\n",
        "    self.name=name\n",
        "veh1 = Car()\n",
        "print(veh1.name)"
      ],
      "metadata": {
        "id": "DHPbqeAxBCCF",
        "outputId": "a970cb03-c537-44ba-c3db-f06e8d3cf70a",
        "colab": {
          "base_uri": "https://localhost:8080/",
          "height": 0
        }
      },
      "execution_count": 23,
      "outputs": [
        {
          "output_type": "stream",
          "name": "stdout",
          "text": [
            "BMW\n"
          ]
        }
      ]
    },
    {
      "cell_type": "code",
      "source": [
        "class Car:\n",
        "  def __init__(self,name=\"BMW\",rate=\"good\"):\n",
        "    self.name=name\n",
        "    self.rate=rate\n",
        "veh1 = Car()\n",
        "print(veh1.name)\n",
        "print(veh1.rate)"
      ],
      "metadata": {
        "id": "PsvS8aliHY_3",
        "outputId": "b8d19c79-f342-47ed-9fe0-dc61a25ed581",
        "colab": {
          "base_uri": "https://localhost:8080/",
          "height": 0
        }
      },
      "execution_count": 24,
      "outputs": [
        {
          "output_type": "stream",
          "name": "stdout",
          "text": [
            "BMW\n",
            "good\n"
          ]
        }
      ]
    },
    {
      "cell_type": "code",
      "source": [
        "class Car:\n",
        "  def __init__(self,name=\"BMW\",rate=\"good\"):\n",
        "    self.name=name\n",
        "    self.rate=rate\n",
        "  def sfunc(self):\n",
        "    print(\"Hi i have \" + self.name)\n",
        "veh1 = Car()\n",
        "print(veh1.name)\n",
        "print(veh1.rate)\n",
        "print(veh1.sfunc())"
      ],
      "metadata": {
        "id": "tEnAzeAMHZDB",
        "outputId": "3f6e8155-e13f-4ecc-c915-de21b62c841d",
        "colab": {
          "base_uri": "https://localhost:8080/",
          "height": 0
        }
      },
      "execution_count": 25,
      "outputs": [
        {
          "output_type": "stream",
          "name": "stdout",
          "text": [
            "BMW\n",
            "good\n",
            "Hi i have BMW\n",
            "None\n"
          ]
        }
      ]
    },
    {
      "cell_type": "code",
      "source": [
        "class Car:\n",
        "  def __init__(self,name=\"BMW\",rate=\"good\"):\n",
        "    self.name=name\n",
        "    self.rate=rate\n",
        "  def sfunc(self):\n",
        "    #print(\"Hi i have \" + self.name)\n",
        "    return (\"Hi i have \" + self.name)\n",
        "  \n",
        "veh1 = Car()\n",
        "print(veh1.name)\n",
        "print(veh1.rate)\n",
        "print(veh1.sfunc())"
      ],
      "metadata": {
        "id": "6Q7EwprLb2FJ",
        "outputId": "0b52fe81-5cdf-4578-9d1e-73c285da9ad5",
        "colab": {
          "base_uri": "https://localhost:8080/",
          "height": 0
        }
      },
      "execution_count": 98,
      "outputs": [
        {
          "output_type": "stream",
          "name": "stdout",
          "text": [
            "BMW\n",
            "good\n",
            "Hi i have BMW\n"
          ]
        }
      ]
    },
    {
      "cell_type": "code",
      "source": [
        "class Car:\n",
        "  def __init__(self,name=\"BMW\",rate=\"good\"):\n",
        "    self.name=name\n",
        "    self.rate=rate\n",
        "  def sfunc(self):\n",
        "    #print(\"Hi i have \" + self.name)\n",
        "    return (\"Hi i have \" + self.name)\n",
        "  def __str__(self):\n",
        "    return self.name + self.rate\n",
        "\n",
        "veh1 = Car()\n",
        "print(veh1.name)\n",
        "print(veh1.rate)\n",
        "veh2=veh1.sfunc()\n",
        "print(veh2)\n",
        "print(veh1)\n",
        "#print(veh1.sfunc())"
      ],
      "metadata": {
        "id": "6AvUzoXeb2Im",
        "outputId": "d76ade10-9e79-44ad-e086-f1529839f118",
        "colab": {
          "base_uri": "https://localhost:8080/",
          "height": 0
        }
      },
      "execution_count": 101,
      "outputs": [
        {
          "output_type": "stream",
          "name": "stdout",
          "text": [
            "BMW\n",
            "good\n",
            "Hi i have BMW\n",
            "BMWgood\n"
          ]
        }
      ]
    },
    {
      "cell_type": "markdown",
      "source": [
        "sys"
      ],
      "metadata": {
        "id": "zTCs6fGnX0iF"
      }
    },
    {
      "cell_type": "code",
      "source": [
        "import sys"
      ],
      "metadata": {
        "id": "6GUM2no_X0zG"
      },
      "execution_count": 73,
      "outputs": []
    },
    {
      "cell_type": "code",
      "source": [
        "for line in sys.stdin:\n",
        "  print(line, end='')"
      ],
      "metadata": {
        "id": "soG_7rwDX07m"
      },
      "execution_count": 76,
      "outputs": []
    },
    {
      "cell_type": "markdown",
      "source": [
        "parse the cmd line parameters"
      ],
      "metadata": {
        "id": "TAHtZlwtYO31"
      }
    },
    {
      "cell_type": "code",
      "source": [
        "for args in sys.argv[1:]:\n",
        "  print(args)"
      ],
      "metadata": {
        "id": "9u6gJ2bbYPKQ",
        "outputId": "8865b431-4938-41d6-a671-03873587e7cd",
        "colab": {
          "base_uri": "https://localhost:8080/",
          "height": 0
        }
      },
      "execution_count": 79,
      "outputs": [
        {
          "output_type": "stream",
          "name": "stdout",
          "text": [
            "-f\n",
            "/root/.local/share/jupyter/runtime/kernel-a45ca4a6-2259-45b5-9902-bd566b30c350.json\n"
          ]
        }
      ]
    },
    {
      "cell_type": "markdown",
      "source": [
        "modules"
      ],
      "metadata": {
        "id": "G1bXFtLLZRIn"
      }
    },
    {
      "cell_type": "code",
      "source": [
        "import math , sys , os ,re"
      ],
      "metadata": {
        "id": "OSCBVACNZRY6"
      },
      "execution_count": 84,
      "outputs": []
    },
    {
      "cell_type": "code",
      "source": [
        "math.sqrt(4)"
      ],
      "metadata": {
        "id": "haRhV6lXZRcY",
        "outputId": "c6a62222-d883-4cca-c39c-0c31d6c487ff",
        "colab": {
          "base_uri": "https://localhost:8080/",
          "height": 0
        }
      },
      "execution_count": 86,
      "outputs": [
        {
          "output_type": "execute_result",
          "data": {
            "text/plain": [
              "2.0"
            ]
          },
          "metadata": {},
          "execution_count": 86
        }
      ]
    },
    {
      "cell_type": "code",
      "source": [
        "print(math.sqrt(110))"
      ],
      "metadata": {
        "id": "1nij3Ah3Zhnv",
        "outputId": "f00c5658-51fa-4b10-cdfd-40c7144ba8aa",
        "colab": {
          "base_uri": "https://localhost:8080/",
          "height": 0
        }
      },
      "execution_count": 87,
      "outputs": [
        {
          "output_type": "stream",
          "name": "stdout",
          "text": [
            "10.488088481701515\n"
          ]
        }
      ]
    },
    {
      "cell_type": "code",
      "source": [
        "math.pi"
      ],
      "metadata": {
        "id": "iFd75ZeYZhtV",
        "outputId": "92965e36-1964-4dd4-d396-d40b50558350",
        "colab": {
          "base_uri": "https://localhost:8080/",
          "height": 0
        }
      },
      "execution_count": 88,
      "outputs": [
        {
          "output_type": "execute_result",
          "data": {
            "text/plain": [
              "3.141592653589793"
            ]
          },
          "metadata": {},
          "execution_count": 88
        }
      ]
    },
    {
      "cell_type": "code",
      "source": [
        "import math as ma"
      ],
      "metadata": {
        "id": "tCxzTkUuZhw1"
      },
      "execution_count": 90,
      "outputs": []
    },
    {
      "cell_type": "code",
      "source": [
        "from math import sqrt"
      ],
      "metadata": {
        "id": "qe5ylG0MZ2rn"
      },
      "execution_count": 91,
      "outputs": []
    },
    {
      "cell_type": "code",
      "source": [
        "sqrt(10)"
      ],
      "metadata": {
        "id": "qysD9iDYZ23c",
        "outputId": "0425a02d-e70f-4288-b458-0c202516b2dc",
        "colab": {
          "base_uri": "https://localhost:8080/",
          "height": 0
        }
      },
      "execution_count": 92,
      "outputs": [
        {
          "output_type": "execute_result",
          "data": {
            "text/plain": [
              "3.1622776601683795"
            ]
          },
          "metadata": {},
          "execution_count": 92
        }
      ]
    },
    {
      "cell_type": "code",
      "source": [
        "#creating modules, with simple calculator(assi)"
      ],
      "metadata": {
        "id": "CU7ZKlJ-Z28z"
      },
      "execution_count": null,
      "outputs": []
    },
    {
      "cell_type": "code",
      "source": [
        "with open(\"cal.py\", \"w\") as f:\n",
        "  f.write(\"#calculator\")\n",
        "f.close()"
      ],
      "metadata": {
        "id": "W-6oP7CFZ2-J"
      },
      "execution_count": 94,
      "outputs": []
    },
    {
      "cell_type": "code",
      "source": [
        "import cal\n",
        "print(cal.add(10,10))"
      ],
      "metadata": {
        "id": "ceq4J20DZ3Bp",
        "outputId": "45eb84b2-db0b-4433-ae41-af94b7f61c76",
        "colab": {
          "base_uri": "https://localhost:8080/",
          "height": 0
        }
      },
      "execution_count": 95,
      "outputs": [
        {
          "output_type": "stream",
          "name": "stdout",
          "text": [
            "20\n"
          ]
        }
      ]
    },
    {
      "cell_type": "markdown",
      "source": [
        "RE"
      ],
      "metadata": {
        "id": "-mo7sizqN7nd"
      }
    },
    {
      "cell_type": "code",
      "source": [
        "import re"
      ],
      "metadata": {
        "id": "3yxVZbQBN60q"
      },
      "execution_count": 26,
      "outputs": []
    },
    {
      "cell_type": "code",
      "source": [
        "sph = re.compile(r'\\d\\d\\d)-\\d\\d\\d-\\d\\d\\d\\d')"
      ],
      "metadata": {
        "id": "2eoR9E4EN66e"
      },
      "execution_count": 28,
      "outputs": []
    },
    {
      "cell_type": "code",
      "source": [
        "smo= sph.search('Hey my no is 123-456-7890')\n",
        "print('num found : '  +  smo.group(0))"
      ],
      "metadata": {
        "id": "rnN0dzqMOPiB",
        "outputId": "1a4ebb5c-ab00-46cb-dfc4-7cf415604f9c",
        "colab": {
          "base_uri": "https://localhost:8080/",
          "height": 0
        }
      },
      "execution_count": 33,
      "outputs": [
        {
          "output_type": "stream",
          "name": "stdout",
          "text": [
            "num found : 123-456-7890\n"
          ]
        }
      ]
    },
    {
      "cell_type": "code",
      "source": [
        "sph = re.compile(r'(\\d\\d\\d)-(\\d\\d\\d-\\d\\d\\d\\d)')"
      ],
      "metadata": {
        "id": "epq4RHa8PVji"
      },
      "execution_count": 37,
      "outputs": []
    },
    {
      "cell_type": "code",
      "source": [
        "smo= sph.search('Hey my no is 123-456-7890')"
      ],
      "metadata": {
        "id": "gd3lbD2SPcyN"
      },
      "execution_count": 38,
      "outputs": []
    },
    {
      "cell_type": "code",
      "source": [
        "\n",
        "print('num found : '  +  smo.group(1))"
      ],
      "metadata": {
        "id": "XlbgJh3mOPla",
        "outputId": "87b4407e-6bc5-4f35-cd5c-f51323765fda",
        "colab": {
          "base_uri": "https://localhost:8080/",
          "height": 0
        }
      },
      "execution_count": 39,
      "outputs": [
        {
          "output_type": "stream",
          "name": "stdout",
          "text": [
            "num found : 123\n"
          ]
        }
      ]
    },
    {
      "cell_type": "code",
      "source": [
        "\n",
        "print('num found : '  +  smo.group(2))"
      ],
      "metadata": {
        "id": "9Nc7hRcJPFLI",
        "outputId": "48163b9a-1bad-4be1-9bed-f60a108cd5d4",
        "colab": {
          "base_uri": "https://localhost:8080/",
          "height": 0
        }
      },
      "execution_count": 40,
      "outputs": [
        {
          "output_type": "stream",
          "name": "stdout",
          "text": [
            "num found : 456-7890\n"
          ]
        }
      ]
    },
    {
      "cell_type": "code",
      "source": [
        "print('num found : '  +  smo.group(0))"
      ],
      "metadata": {
        "id": "4mL2gKoaPFOn",
        "outputId": "d364ec5d-ce64-4d08-9980-b1e009c2a311",
        "colab": {
          "base_uri": "https://localhost:8080/",
          "height": 0
        }
      },
      "execution_count": 41,
      "outputs": [
        {
          "output_type": "stream",
          "name": "stdout",
          "text": [
            "num found : 123-456-7890\n"
          ]
        }
      ]
    },
    {
      "cell_type": "markdown",
      "source": [
        "Pipe | , either , alternation"
      ],
      "metadata": {
        "id": "qojD2JjBP0S2"
      }
    },
    {
      "cell_type": "code",
      "source": [
        "power = re.compile(r'Good|Best')"
      ],
      "metadata": {
        "id": "Ovyr_EuaPwxF"
      },
      "execution_count": 42,
      "outputs": []
    },
    {
      "cell_type": "code",
      "source": [
        "po1 = power.search('I am Best')"
      ],
      "metadata": {
        "id": "vzkBOJL3Pwy9"
      },
      "execution_count": 43,
      "outputs": []
    },
    {
      "cell_type": "code",
      "source": [
        "print(po1.group())"
      ],
      "metadata": {
        "id": "q-e78zmGPw1k",
        "outputId": "eda49b44-f382-47f5-b139-e579174edf21",
        "colab": {
          "base_uri": "https://localhost:8080/",
          "height": 0
        }
      },
      "execution_count": 44,
      "outputs": [
        {
          "output_type": "stream",
          "name": "stdout",
          "text": [
            "Best\n"
          ]
        }
      ]
    },
    {
      "cell_type": "code",
      "source": [
        "import re\n",
        "s1 = re.compile(r'Good|Best')\n",
        "d1 = s1.search('I am Best')\n",
        "print(d1.group())"
      ],
      "metadata": {
        "id": "JIHaIeTvPw5I",
        "outputId": "bb500cea-74d2-472d-90ee-e862294df51a",
        "colab": {
          "base_uri": "https://localhost:8080/",
          "height": 0
        }
      },
      "execution_count": 106,
      "outputs": [
        {
          "output_type": "stream",
          "name": "stdout",
          "text": [
            "Best\n"
          ]
        }
      ]
    },
    {
      "cell_type": "code",
      "source": [
        "import re\n",
        "s1 = re.compile(r'Good|Best')\n",
        "d1 = s1.search('I am Good')\n",
        "print(d1.group())"
      ],
      "metadata": {
        "id": "auqyyCO2d3m9",
        "outputId": "c8c424fa-7039-4ade-ebff-ee6e8a6f7599",
        "colab": {
          "base_uri": "https://localhost:8080/",
          "height": 0
        }
      },
      "execution_count": 108,
      "outputs": [
        {
          "output_type": "stream",
          "name": "stdout",
          "text": [
            "Good\n"
          ]
        }
      ]
    }
  ],
  "metadata": {
    "colab": {
      "collapsed_sections": [],
      "name": "Welcome To Colaboratory",
      "provenance": [],
      "include_colab_link": true
    },
    "kernelspec": {
      "display_name": "Python 3",
      "name": "python3"
    }
  },
  "nbformat": 4,
  "nbformat_minor": 0
}