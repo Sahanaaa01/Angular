{
  "cells": [
    {
      "cell_type": "markdown",
      "metadata": {
        "id": "view-in-github",
        "colab_type": "text"
      },
      "source": [
        "<a href=\"https://colab.research.google.com/github/Sahanaaa01/Angular/blob/new-branch/Welcome_To_Colaboratory.ipynb\" target=\"_parent\"><img src=\"https://colab.research.google.com/assets/colab-badge.svg\" alt=\"Open In Colab\"/></a>"
      ]
    },
    {
      "cell_type": "markdown",
      "source": [
        "sep 29 = day2"
      ],
      "metadata": {
        "id": "nb3ekeGLFo8h"
      }
    },
    {
      "cell_type": "markdown",
      "source": [
        "String"
      ],
      "metadata": {
        "id": "00P8FgVzFpAD"
      }
    },
    {
      "cell_type": "code",
      "source": [
        "a=\"hello world!\"\n",
        "a"
      ],
      "metadata": {
        "id": "GdXydhCBFtyg",
        "outputId": "bda6da0e-e4b6-45f4-febd-7c5d34f242dd",
        "colab": {
          "base_uri": "https://localhost:8080/",
          "height": 35
        }
      },
      "execution_count": 85,
      "outputs": [
        {
          "output_type": "execute_result",
          "data": {
            "text/plain": [
              "'hello world!'"
            ],
            "application/vnd.google.colaboratory.intrinsic+json": {
              "type": "string"
            }
          },
          "metadata": {},
          "execution_count": 85
        }
      ]
    },
    {
      "cell_type": "code",
      "source": [
        "a=\"hello world!\"[1]\n",
        "a"
      ],
      "metadata": {
        "id": "J9crSbiyFt_9",
        "outputId": "bacf17fd-ec7d-4303-ea28-ac7fb192200b",
        "colab": {
          "base_uri": "https://localhost:8080/",
          "height": 35
        }
      },
      "execution_count": 86,
      "outputs": [
        {
          "output_type": "execute_result",
          "data": {
            "text/plain": [
              "'e'"
            ],
            "application/vnd.google.colaboratory.intrinsic+json": {
              "type": "string"
            }
          },
          "metadata": {},
          "execution_count": 86
        }
      ]
    },
    {
      "cell_type": "code",
      "source": [
        "a=\"hello world!\"[-6:-1]\n",
        "a"
      ],
      "metadata": {
        "id": "x5pshLj1FuCM",
        "outputId": "aa293194-1be5-4fae-a5aa-3f97aa3dad2d",
        "colab": {
          "base_uri": "https://localhost:8080/",
          "height": 35
        }
      },
      "execution_count": 90,
      "outputs": [
        {
          "output_type": "execute_result",
          "data": {
            "text/plain": [
              "'world'"
            ],
            "application/vnd.google.colaboratory.intrinsic+json": {
              "type": "string"
            }
          },
          "metadata": {},
          "execution_count": 90
        }
      ]
    },
    {
      "cell_type": "code",
      "source": [
        "a=\"hello world!\"[:-1]\n",
        "a"
      ],
      "metadata": {
        "id": "1KNmmRIEFuED",
        "outputId": "cf840d35-c9ca-48c2-8d4b-404df95681e4",
        "colab": {
          "base_uri": "https://localhost:8080/",
          "height": 35
        }
      },
      "execution_count": 88,
      "outputs": [
        {
          "output_type": "execute_result",
          "data": {
            "text/plain": [
              "'hello world'"
            ],
            "application/vnd.google.colaboratory.intrinsic+json": {
              "type": "string"
            }
          },
          "metadata": {},
          "execution_count": 88
        }
      ]
    },
    {
      "cell_type": "code",
      "source": [
        "a=\"hello world!\"[-1:]\n",
        "a"
      ],
      "metadata": {
        "id": "yX0E-mtmFuHr",
        "outputId": "06f343c9-35db-428e-deed-d5e2b03d5b14",
        "colab": {
          "base_uri": "https://localhost:8080/",
          "height": 35
        }
      },
      "execution_count": 91,
      "outputs": [
        {
          "output_type": "execute_result",
          "data": {
            "text/plain": [
              "'!'"
            ],
            "application/vnd.google.colaboratory.intrinsic+json": {
              "type": "string"
            }
          },
          "metadata": {},
          "execution_count": 91
        }
      ]
    },
    {
      "cell_type": "code",
      "source": [
        "a=\"hello world!\"[:-1]\n",
        "a"
      ],
      "metadata": {
        "id": "1Dq3UPO4GItM",
        "outputId": "faf27102-cb88-4484-9a54-905af56ae45d",
        "colab": {
          "base_uri": "https://localhost:8080/",
          "height": 35
        }
      },
      "execution_count": 92,
      "outputs": [
        {
          "output_type": "execute_result",
          "data": {
            "text/plain": [
              "'hello world'"
            ],
            "application/vnd.google.colaboratory.intrinsic+json": {
              "type": "string"
            }
          },
          "metadata": {},
          "execution_count": 92
        }
      ]
    },
    {
      "cell_type": "code",
      "source": [
        "a=\"hello world!\"[-1:1]\n",
        "print(a)"
      ],
      "metadata": {
        "id": "7fU-TtkUGJBb",
        "outputId": "9f79c9d9-a0d7-4095-bd85-4d259a2f4043",
        "colab": {
          "base_uri": "https://localhost:8080/"
        }
      },
      "execution_count": 93,
      "outputs": [
        {
          "output_type": "stream",
          "name": "stdout",
          "text": [
            "\n"
          ]
        }
      ]
    },
    {
      "cell_type": "code",
      "source": [
        "type(a)"
      ],
      "metadata": {
        "id": "GO3Yw7FIHEuV",
        "outputId": "e1e8cde3-624a-49b0-a9b4-644338c2c486",
        "colab": {
          "base_uri": "https://localhost:8080/"
        }
      },
      "execution_count": 96,
      "outputs": [
        {
          "output_type": "execute_result",
          "data": {
            "text/plain": [
              "str"
            ]
          },
          "metadata": {},
          "execution_count": 96
        }
      ]
    },
    {
      "cell_type": "markdown",
      "source": [
        "Lists"
      ],
      "metadata": {
        "id": "8gKzGgcMGn7Z"
      }
    },
    {
      "cell_type": "code",
      "source": [
        "a=\"hello world\"\n",
        "listylist = [\"strings\", a, 1,1.1]\n",
        "print(listylist)"
      ],
      "metadata": {
        "id": "Up08W3tdGJEQ",
        "outputId": "abdde9e9-fab8-4a52-d886-e23ce34c72ee",
        "colab": {
          "base_uri": "https://localhost:8080/"
        }
      },
      "execution_count": 94,
      "outputs": [
        {
          "output_type": "stream",
          "name": "stdout",
          "text": [
            "['strings', 'hello world', 1, 1.1]\n"
          ]
        }
      ]
    },
    {
      "cell_type": "code",
      "source": [
        "print(listylist[0])"
      ],
      "metadata": {
        "id": "I89UFaRIGJHu",
        "outputId": "b6fe8179-bf98-48e1-9759-1d27f6a94c00",
        "colab": {
          "base_uri": "https://localhost:8080/"
        }
      },
      "execution_count": 95,
      "outputs": [
        {
          "output_type": "stream",
          "name": "stdout",
          "text": [
            "strings\n"
          ]
        }
      ]
    },
    {
      "cell_type": "code",
      "source": [
        "print(listylist[-2])"
      ],
      "metadata": {
        "id": "xSPfggbxHLaz",
        "outputId": "c334f7d6-5379-418b-ed2b-2c7d0343cd43",
        "colab": {
          "base_uri": "https://localhost:8080/"
        }
      },
      "execution_count": 97,
      "outputs": [
        {
          "output_type": "stream",
          "name": "stdout",
          "text": [
            "1\n"
          ]
        }
      ]
    },
    {
      "cell_type": "code",
      "source": [
        "len(a)"
      ],
      "metadata": {
        "id": "SMHXyd6lHLc7",
        "outputId": "bb0c4d12-8a69-4dc1-dc81-1552663690a2",
        "colab": {
          "base_uri": "https://localhost:8080/"
        }
      },
      "execution_count": 98,
      "outputs": [
        {
          "output_type": "execute_result",
          "data": {
            "text/plain": [
              "11"
            ]
          },
          "metadata": {},
          "execution_count": 98
        }
      ]
    },
    {
      "cell_type": "code",
      "source": [
        "len(listylist)"
      ],
      "metadata": {
        "id": "7CGwTetLHLeu",
        "outputId": "9b5f378e-4e95-4d76-d4ba-a601f6e10506",
        "colab": {
          "base_uri": "https://localhost:8080/"
        }
      },
      "execution_count": 99,
      "outputs": [
        {
          "output_type": "execute_result",
          "data": {
            "text/plain": [
              "4"
            ]
          },
          "metadata": {},
          "execution_count": 99
        }
      ]
    },
    {
      "cell_type": "code",
      "source": [
        "print(listylist)"
      ],
      "metadata": {
        "id": "g9DdEt6GHLgR",
        "outputId": "53c660ca-946d-412d-c0d9-85e862bc575f",
        "colab": {
          "base_uri": "https://localhost:8080/"
        }
      },
      "execution_count": 100,
      "outputs": [
        {
          "output_type": "stream",
          "name": "stdout",
          "text": [
            "['strings', 'hello world', 1, 1.1]\n"
          ]
        }
      ]
    },
    {
      "cell_type": "code",
      "source": [
        "listylist.append(5)\n",
        "print(listylist)"
      ],
      "metadata": {
        "id": "xSOSg3iMHLip",
        "outputId": "45ea40f9-d320-451d-8f14-649f505da47d",
        "colab": {
          "base_uri": "https://localhost:8080/"
        }
      },
      "execution_count": 102,
      "outputs": [
        {
          "output_type": "stream",
          "name": "stdout",
          "text": [
            "['strings', 'hello world', 1, 1.1, 5, 5]\n"
          ]
        }
      ]
    },
    {
      "cell_type": "code",
      "source": [
        "listylist[-1]=\"sahana\"\n",
        "print(listylist)"
      ],
      "metadata": {
        "id": "XHKlWNSYHLmI",
        "outputId": "fe9c35bb-6ef3-4bb8-9ff4-dfe9adbad306",
        "colab": {
          "base_uri": "https://localhost:8080/"
        }
      },
      "execution_count": 103,
      "outputs": [
        {
          "output_type": "stream",
          "name": "stdout",
          "text": [
            "['strings', 'hello world', 1, 1.1, 5, 'sahana']\n"
          ]
        }
      ]
    },
    {
      "cell_type": "code",
      "source": [
        "listylist.insert(3,\"dodawad\")\n",
        "print(listylist)"
      ],
      "metadata": {
        "id": "n3J28AexIBuv",
        "outputId": "56cab21f-d6fe-4f95-af11-b5750493ab86",
        "colab": {
          "base_uri": "https://localhost:8080/"
        }
      },
      "execution_count": 104,
      "outputs": [
        {
          "output_type": "stream",
          "name": "stdout",
          "text": [
            "['strings', 'hello world', 1, 'dodawad', 1.1, 5, 'sahana']\n"
          ]
        }
      ]
    },
    {
      "cell_type": "code",
      "source": [],
      "metadata": {
        "id": "prCf3EDVIB1O"
      },
      "execution_count": null,
      "outputs": []
    },
    {
      "cell_type": "code",
      "source": [
        "a=[1,2,3,4]\n",
        "b=a\n",
        "a"
      ],
      "metadata": {
        "id": "YTn12jx9IB3e",
        "outputId": "a0001d31-c8bc-4d6f-98b0-cead795db974",
        "colab": {
          "base_uri": "https://localhost:8080/"
        }
      },
      "execution_count": 105,
      "outputs": [
        {
          "output_type": "execute_result",
          "data": {
            "text/plain": [
              "[1, 2, 3, 4]"
            ]
          },
          "metadata": {},
          "execution_count": 105
        }
      ]
    },
    {
      "cell_type": "code",
      "source": [
        "b"
      ],
      "metadata": {
        "id": "VhKXej6rIB6R",
        "outputId": "12fbec8f-909b-4427-f7c9-77ccbadabd51",
        "colab": {
          "base_uri": "https://localhost:8080/"
        }
      },
      "execution_count": 106,
      "outputs": [
        {
          "output_type": "execute_result",
          "data": {
            "text/plain": [
              "[1, 2, 3, 4]"
            ]
          },
          "metadata": {},
          "execution_count": 106
        }
      ]
    },
    {
      "cell_type": "code",
      "source": [
        "del a[3]"
      ],
      "metadata": {
        "id": "ukJVGqw8IB95"
      },
      "execution_count": 107,
      "outputs": []
    },
    {
      "cell_type": "code",
      "source": [
        "a"
      ],
      "metadata": {
        "id": "CrRqPgfDIl2h",
        "outputId": "c3711e83-1c76-4521-cbed-ae798e17684c",
        "colab": {
          "base_uri": "https://localhost:8080/"
        }
      },
      "execution_count": 109,
      "outputs": [
        {
          "output_type": "execute_result",
          "data": {
            "text/plain": [
              "[1, 2, 3]"
            ]
          },
          "metadata": {},
          "execution_count": 109
        }
      ]
    },
    {
      "cell_type": "code",
      "source": [
        "b"
      ],
      "metadata": {
        "id": "DKUqHUsOImBY",
        "outputId": "a93ed64e-c1f1-46ef-df37-e1b75528a736",
        "colab": {
          "base_uri": "https://localhost:8080/"
        }
      },
      "execution_count": 110,
      "outputs": [
        {
          "output_type": "execute_result",
          "data": {
            "text/plain": [
              "[1, 2, 3]"
            ]
          },
          "metadata": {},
          "execution_count": 110
        }
      ]
    },
    {
      "cell_type": "code",
      "source": [],
      "metadata": {
        "id": "E19-3cHBImIL"
      },
      "execution_count": null,
      "outputs": []
    },
    {
      "cell_type": "code",
      "source": [
        "del b[1]\n",
        "a"
      ],
      "metadata": {
        "id": "c4DzaSBRItfX",
        "outputId": "102b47cf-bca3-4cc1-b4fe-72f71a42afda",
        "colab": {
          "base_uri": "https://localhost:8080/"
        }
      },
      "execution_count": 111,
      "outputs": [
        {
          "output_type": "execute_result",
          "data": {
            "text/plain": [
              "[1, 3]"
            ]
          },
          "metadata": {},
          "execution_count": 111
        }
      ]
    },
    {
      "cell_type": "code",
      "source": [
        "b"
      ],
      "metadata": {
        "id": "9ScWvuNtItiw",
        "outputId": "6a0b7b6f-eaef-4570-8130-ac6bee8a0461",
        "colab": {
          "base_uri": "https://localhost:8080/"
        }
      },
      "execution_count": 112,
      "outputs": [
        {
          "output_type": "execute_result",
          "data": {
            "text/plain": [
              "[1, 3]"
            ]
          },
          "metadata": {},
          "execution_count": 112
        }
      ]
    },
    {
      "cell_type": "code",
      "source": [],
      "metadata": {
        "id": "NHPngPx2IzRa"
      },
      "execution_count": null,
      "outputs": []
    },
    {
      "cell_type": "code",
      "source": [
        "b=a[:]\n",
        "a "
      ],
      "metadata": {
        "id": "P6_QjN4cI2JX",
        "outputId": "20a9736a-95e6-4ca0-fb43-361e10924888",
        "colab": {
          "base_uri": "https://localhost:8080/"
        }
      },
      "execution_count": 113,
      "outputs": [
        {
          "output_type": "execute_result",
          "data": {
            "text/plain": [
              "[1, 3]"
            ]
          },
          "metadata": {},
          "execution_count": 113
        }
      ]
    },
    {
      "cell_type": "code",
      "source": [
        "b"
      ],
      "metadata": {
        "id": "rLXPkixzI9nD",
        "outputId": "3db2693b-52b5-485b-b4b3-d9d1b50f7013",
        "colab": {
          "base_uri": "https://localhost:8080/"
        }
      },
      "execution_count": 114,
      "outputs": [
        {
          "output_type": "execute_result",
          "data": {
            "text/plain": [
              "[1, 3]"
            ]
          },
          "metadata": {},
          "execution_count": 114
        }
      ]
    },
    {
      "cell_type": "code",
      "source": [
        "del a[-1]\n",
        "a"
      ],
      "metadata": {
        "id": "RHG93IXCI91I",
        "outputId": "cb1e93db-4fab-4886-90a6-d0b8e6b28bec",
        "colab": {
          "base_uri": "https://localhost:8080/"
        }
      },
      "execution_count": 115,
      "outputs": [
        {
          "output_type": "execute_result",
          "data": {
            "text/plain": [
              "[1]"
            ]
          },
          "metadata": {},
          "execution_count": 115
        }
      ]
    },
    {
      "cell_type": "code",
      "source": [
        "b"
      ],
      "metadata": {
        "id": "YFAZbfuKI93c",
        "outputId": "16c46955-8f87-450c-95f9-d2eebfdbec75",
        "colab": {
          "base_uri": "https://localhost:8080/"
        }
      },
      "execution_count": 116,
      "outputs": [
        {
          "output_type": "execute_result",
          "data": {
            "text/plain": [
              "[1, 3]"
            ]
          },
          "metadata": {},
          "execution_count": 116
        }
      ]
    },
    {
      "cell_type": "code",
      "source": [
        "type(listylist)"
      ],
      "metadata": {
        "id": "4KJ0jeg1JkxR",
        "outputId": "13cbafc4-cf45-4cfd-dbb5-6cbc08b9a2c0",
        "colab": {
          "base_uri": "https://localhost:8080/"
        }
      },
      "execution_count": 117,
      "outputs": [
        {
          "output_type": "execute_result",
          "data": {
            "text/plain": [
              "list"
            ]
          },
          "metadata": {},
          "execution_count": 117
        }
      ]
    },
    {
      "cell_type": "code",
      "source": [
        "type(a)\n",
        "type(b)"
      ],
      "metadata": {
        "id": "HSVZfHdfJn6e",
        "outputId": "5affda3f-e9ab-4924-d660-17fd88fd6df4",
        "colab": {
          "base_uri": "https://localhost:8080/"
        }
      },
      "execution_count": 118,
      "outputs": [
        {
          "output_type": "execute_result",
          "data": {
            "text/plain": [
              "list"
            ]
          },
          "metadata": {},
          "execution_count": 118
        }
      ]
    },
    {
      "cell_type": "markdown",
      "source": [
        "Tuples"
      ],
      "metadata": {
        "id": "heRaQbE4JSnX"
      }
    },
    {
      "cell_type": "code",
      "source": [
        "tup=\"hi\",\"hello\",\"yes\",\"no no\"\n",
        "tup"
      ],
      "metadata": {
        "id": "sMKytCx3I956",
        "outputId": "4379483d-c9b1-437c-bc85-f28c193f9bd5",
        "colab": {
          "base_uri": "https://localhost:8080/"
        }
      },
      "execution_count": 119,
      "outputs": [
        {
          "output_type": "execute_result",
          "data": {
            "text/plain": [
              "('hi', 'hello', 'yes', 'no no')"
            ]
          },
          "metadata": {},
          "execution_count": 119
        }
      ]
    },
    {
      "cell_type": "code",
      "source": [
        "type(tup)"
      ],
      "metadata": {
        "id": "Ss-wV_p0JWLz",
        "outputId": "00e5e97b-3881-44dc-fa3b-81735fde66ac",
        "colab": {
          "base_uri": "https://localhost:8080/"
        }
      },
      "execution_count": 120,
      "outputs": [
        {
          "output_type": "execute_result",
          "data": {
            "text/plain": [
              "tuple"
            ]
          },
          "metadata": {},
          "execution_count": 120
        }
      ]
    },
    {
      "cell_type": "code",
      "source": [
        "tup[0]\n"
      ],
      "metadata": {
        "id": "ljpafUR9JWOS",
        "outputId": "f196f260-9ca3-4007-9513-db4581d9b07b",
        "colab": {
          "base_uri": "https://localhost:8080/",
          "height": 35
        }
      },
      "execution_count": 122,
      "outputs": [
        {
          "output_type": "execute_result",
          "data": {
            "text/plain": [
              "'hi'"
            ],
            "application/vnd.google.colaboratory.intrinsic+json": {
              "type": "string"
            }
          },
          "metadata": {},
          "execution_count": 122
        }
      ]
    },
    {
      "cell_type": "code",
      "source": [
        "tup[-1]"
      ],
      "metadata": {
        "id": "OeevDkWuJWRu",
        "outputId": "b57c04ec-1f38-41d8-e766-618bbe4a6bab",
        "colab": {
          "base_uri": "https://localhost:8080/",
          "height": 35
        }
      },
      "execution_count": 123,
      "outputs": [
        {
          "output_type": "execute_result",
          "data": {
            "text/plain": [
              "'no no'"
            ],
            "application/vnd.google.colaboratory.intrinsic+json": {
              "type": "string"
            }
          },
          "metadata": {},
          "execution_count": 123
        }
      ]
    },
    {
      "cell_type": "code",
      "source": [
        "tup=\"hi\",\"hello\",\"yes\",\"no no\",(0,'CS')\n",
        "tup"
      ],
      "metadata": {
        "id": "PZu8VknPI98K",
        "outputId": "3ae33b45-37e7-430a-d36a-0bac75d22869",
        "colab": {
          "base_uri": "https://localhost:8080/"
        }
      },
      "execution_count": 124,
      "outputs": [
        {
          "output_type": "execute_result",
          "data": {
            "text/plain": [
              "('hi', 'hello', 'yes', 'no no', (0, 'CS'))"
            ]
          },
          "metadata": {},
          "execution_count": 124
        }
      ]
    },
    {
      "cell_type": "code",
      "source": [
        "tup[-1]"
      ],
      "metadata": {
        "id": "lDGutJLFI9_n",
        "outputId": "02a342e8-1768-441c-fdb4-fadb35ff0c7a",
        "colab": {
          "base_uri": "https://localhost:8080/"
        }
      },
      "execution_count": 125,
      "outputs": [
        {
          "output_type": "execute_result",
          "data": {
            "text/plain": [
              "(0, 'CS')"
            ]
          },
          "metadata": {},
          "execution_count": 125
        }
      ]
    },
    {
      "cell_type": "markdown",
      "source": [
        "Dictories"
      ],
      "metadata": {
        "id": "5ag8-4qPKWwf"
      }
    },
    {
      "cell_type": "code",
      "source": [
        "dictry={\"Mango\":1, \"Apple\":2}\n",
        "dictry"
      ],
      "metadata": {
        "id": "p2Iul7jKKYwA",
        "outputId": "d1ef5942-4045-4955-a7bf-a2903ae27150",
        "colab": {
          "base_uri": "https://localhost:8080/"
        }
      },
      "execution_count": 126,
      "outputs": [
        {
          "output_type": "execute_result",
          "data": {
            "text/plain": [
              "{'Mango': 1, 'Apple': 2}"
            ]
          },
          "metadata": {},
          "execution_count": 126
        }
      ]
    },
    {
      "cell_type": "code",
      "source": [
        "type(dictry)"
      ],
      "metadata": {
        "id": "Vv3N0YLqKYyz",
        "outputId": "47b5a24e-afc3-47e9-947a-50639c371617",
        "colab": {
          "base_uri": "https://localhost:8080/"
        }
      },
      "execution_count": 127,
      "outputs": [
        {
          "output_type": "execute_result",
          "data": {
            "text/plain": [
              "dict"
            ]
          },
          "metadata": {},
          "execution_count": 127
        }
      ]
    },
    {
      "cell_type": "code",
      "source": [
        "len(dictry)"
      ],
      "metadata": {
        "id": "lSEU9dc_KY3G",
        "outputId": "4089c413-adc8-403d-ad04-7f0223337fa3",
        "colab": {
          "base_uri": "https://localhost:8080/"
        }
      },
      "execution_count": 128,
      "outputs": [
        {
          "output_type": "execute_result",
          "data": {
            "text/plain": [
              "2"
            ]
          },
          "metadata": {},
          "execution_count": 128
        }
      ]
    },
    {
      "cell_type": "code",
      "source": [
        "dictry[\"Mango\"]"
      ],
      "metadata": {
        "id": "lnQImZgLKY74",
        "outputId": "8450e44a-f741-469b-e940-6cc2e9b465b5",
        "colab": {
          "base_uri": "https://localhost:8080/"
        }
      },
      "execution_count": 131,
      "outputs": [
        {
          "output_type": "execute_result",
          "data": {
            "text/plain": [
              "1"
            ]
          },
          "metadata": {},
          "execution_count": 131
        }
      ]
    },
    {
      "cell_type": "code",
      "source": [
        "dictry[\"papaya\"]=\"3\"\n",
        "dictry"
      ],
      "metadata": {
        "id": "cTsZ79p4KY-G",
        "outputId": "59ebb1e1-74b8-4fc2-d2e5-9821b559cd07",
        "colab": {
          "base_uri": "https://localhost:8080/"
        }
      },
      "execution_count": 132,
      "outputs": [
        {
          "output_type": "execute_result",
          "data": {
            "text/plain": [
              "{'Mango': 1, 'Apple': 2, 'papaya': '3'}"
            ]
          },
          "metadata": {},
          "execution_count": 132
        }
      ]
    },
    {
      "cell_type": "markdown",
      "source": [
        "Sets"
      ],
      "metadata": {
        "id": "x9jQJopqLXto"
      }
    },
    {
      "cell_type": "code",
      "source": [
        "setyset=set([1,2,3,4,5,5])\n",
        "setyset"
      ],
      "metadata": {
        "id": "d3awqo-5KY_-",
        "outputId": "4bec5464-990c-414a-ce71-d0cad63de21c",
        "colab": {
          "base_uri": "https://localhost:8080/"
        }
      },
      "execution_count": 135,
      "outputs": [
        {
          "output_type": "execute_result",
          "data": {
            "text/plain": [
              "{1, 2, 3, 4, 5}"
            ]
          },
          "metadata": {},
          "execution_count": 135
        }
      ]
    },
    {
      "cell_type": "code",
      "source": [
        "a={1,1,2,3,4,5,5}\n",
        "a"
      ],
      "metadata": {
        "id": "Et4QKzTkKZDS",
        "outputId": "c73b14e0-ac09-45db-e4b5-54f51510c8fa",
        "colab": {
          "base_uri": "https://localhost:8080/"
        }
      },
      "execution_count": 136,
      "outputs": [
        {
          "output_type": "execute_result",
          "data": {
            "text/plain": [
              "{1, 2, 3, 4, 5}"
            ]
          },
          "metadata": {},
          "execution_count": 136
        }
      ]
    },
    {
      "cell_type": "code",
      "source": [
        "type(a)"
      ],
      "metadata": {
        "id": "ohgVve0qL10U",
        "outputId": "ed297bc7-66f6-4d49-f139-f5cec12f6093",
        "colab": {
          "base_uri": "https://localhost:8080/"
        }
      },
      "execution_count": 137,
      "outputs": [
        {
          "output_type": "execute_result",
          "data": {
            "text/plain": [
              "set"
            ]
          },
          "metadata": {},
          "execution_count": 137
        }
      ]
    },
    {
      "cell_type": "code",
      "source": [
        "type(setyset)"
      ],
      "metadata": {
        "id": "DL8PF2T7L2QO",
        "outputId": "42921f18-c7b5-4fb1-de0f-28785b53ea35",
        "colab": {
          "base_uri": "https://localhost:8080/"
        }
      },
      "execution_count": 138,
      "outputs": [
        {
          "output_type": "execute_result",
          "data": {
            "text/plain": [
              "set"
            ]
          },
          "metadata": {},
          "execution_count": 138
        }
      ]
    },
    {
      "cell_type": "markdown",
      "source": [
        "Frozen Set"
      ],
      "metadata": {
        "id": "Z_P3JA5cL9oa"
      }
    },
    {
      "cell_type": "code",
      "source": [
        "frozen = frozenset([\"sahana\",\"sadhana\",\"sanjana\"])\n",
        "frozen"
      ],
      "metadata": {
        "id": "pKN3zMKZL7Sh",
        "outputId": "39e0b843-25f9-4351-b114-c72d1031590c",
        "colab": {
          "base_uri": "https://localhost:8080/"
        }
      },
      "execution_count": 140,
      "outputs": [
        {
          "output_type": "execute_result",
          "data": {
            "text/plain": [
              "frozenset({'sadhana', 'sahana', 'sanjana'})"
            ]
          },
          "metadata": {},
          "execution_count": 140
        }
      ]
    },
    {
      "cell_type": "code",
      "source": [
        "frozen.add(\"1\")"
      ],
      "metadata": {
        "id": "tIqu2Ex5MKKg",
        "outputId": "628704f5-a69b-466a-9c13-a203e489cb5b",
        "colab": {
          "base_uri": "https://localhost:8080/",
          "height": 166
        }
      },
      "execution_count": 141,
      "outputs": [
        {
          "output_type": "error",
          "ename": "AttributeError",
          "evalue": "ignored",
          "traceback": [
            "\u001b[0;31m---------------------------------------------------------------------------\u001b[0m",
            "\u001b[0;31mAttributeError\u001b[0m                            Traceback (most recent call last)",
            "\u001b[0;32m<ipython-input-141-45717e797b49>\u001b[0m in \u001b[0;36m<module>\u001b[0;34m\u001b[0m\n\u001b[0;32m----> 1\u001b[0;31m \u001b[0mfrozen\u001b[0m\u001b[0;34m.\u001b[0m\u001b[0madd\u001b[0m\u001b[0;34m(\u001b[0m\u001b[0;34m\"1\"\u001b[0m\u001b[0;34m)\u001b[0m\u001b[0;34m\u001b[0m\u001b[0;34m\u001b[0m\u001b[0m\n\u001b[0m",
            "\u001b[0;31mAttributeError\u001b[0m: 'frozenset' object has no attribute 'add'"
          ]
        }
      ]
    },
    {
      "cell_type": "code",
      "source": [
        " a"
      ],
      "metadata": {
        "id": "MCiix3E_MKMn",
        "outputId": "d35e67e5-1e72-41a0-9e78-7eb3d74a4e8b",
        "colab": {
          "base_uri": "https://localhost:8080/"
        }
      },
      "execution_count": 142,
      "outputs": [
        {
          "output_type": "execute_result",
          "data": {
            "text/plain": [
              "{1, 2, 3, 4, 5}"
            ]
          },
          "metadata": {},
          "execution_count": 142
        }
      ]
    },
    {
      "cell_type": "code",
      "source": [
        "a.add(6)\n",
        "a"
      ],
      "metadata": {
        "id": "8aR0__ozMKO1",
        "outputId": "32122e1e-706d-4caa-864a-c19c4f1dce7c",
        "colab": {
          "base_uri": "https://localhost:8080/"
        }
      },
      "execution_count": 143,
      "outputs": [
        {
          "output_type": "execute_result",
          "data": {
            "text/plain": [
              "{1, 2, 3, 4, 5, 6}"
            ]
          },
          "metadata": {},
          "execution_count": 143
        }
      ]
    },
    {
      "cell_type": "markdown",
      "source": [
        "Assignment -1"
      ],
      "metadata": {
        "id": "YbKJWxOyOes-"
      }
    },
    {
      "cell_type": "code",
      "source": [
        "#Write a prgm that puts 5,10 and \"twenty\" into a list.Then remove 20 from the list.\n",
        "\n",
        "list1=[5,10,\"twenty\"]\n",
        "list1"
      ],
      "metadata": {
        "id": "Cj47N_eaMKQ2",
        "outputId": "5c45d8ae-2a9a-4217-abf2-a15f2cff20b2",
        "colab": {
          "base_uri": "https://localhost:8080/"
        }
      },
      "execution_count": 147,
      "outputs": [
        {
          "output_type": "execute_result",
          "data": {
            "text/plain": [
              "[5, 10, 'twenty']"
            ]
          },
          "metadata": {},
          "execution_count": 147
        }
      ]
    },
    {
      "cell_type": "code",
      "source": [
        "del list1[1]\n",
        "list1"
      ],
      "metadata": {
        "id": "-V6Pa8GfMKUY",
        "outputId": "e92152c6-9348-4195-bfee-09e40fc10527",
        "colab": {
          "base_uri": "https://localhost:8080/"
        }
      },
      "execution_count": 148,
      "outputs": [
        {
          "output_type": "execute_result",
          "data": {
            "text/plain": [
              "[5, 'twenty']"
            ]
          },
          "metadata": {},
          "execution_count": 148
        }
      ]
    },
    {
      "cell_type": "code",
      "source": [
        "type(list1)"
      ],
      "metadata": {
        "id": "-VIIDK7rNjKn",
        "outputId": "7b3bf222-46f4-41ea-ba2f-60ec5642db66",
        "colab": {
          "base_uri": "https://localhost:8080/"
        }
      },
      "execution_count": 149,
      "outputs": [
        {
          "output_type": "execute_result",
          "data": {
            "text/plain": [
              "list"
            ]
          },
          "metadata": {},
          "execution_count": 149
        }
      ]
    },
    {
      "cell_type": "code",
      "source": [
        "# Write a prgm that puts 5,10 and \"twenty\" into a tuple.\n",
        "\n",
        "tup1=\"5\",\"10\",\"twenty\"\n",
        "tup1"
      ],
      "metadata": {
        "id": "H64T0GmwNTZc",
        "outputId": "dfce7f1b-d71a-4b30-c64f-9a4796f4d6c2",
        "colab": {
          "base_uri": "https://localhost:8080/"
        }
      },
      "execution_count": 150,
      "outputs": [
        {
          "output_type": "execute_result",
          "data": {
            "text/plain": [
              "('5', '10', 'twenty')"
            ]
          },
          "metadata": {},
          "execution_count": 150
        }
      ]
    },
    {
      "cell_type": "code",
      "source": [
        "type(tup1)"
      ],
      "metadata": {
        "id": "Eh7S3RXON4v8",
        "outputId": "e352f047-8c46-4ba7-baa1-ac559661b1b5",
        "colab": {
          "base_uri": "https://localhost:8080/"
        }
      },
      "execution_count": 151,
      "outputs": [
        {
          "output_type": "execute_result",
          "data": {
            "text/plain": [
              "tuple"
            ]
          },
          "metadata": {},
          "execution_count": 151
        }
      ]
    },
    {
      "cell_type": "code",
      "source": [
        "# Write a prgm that puts 5,10 and \"twenty\" into a set. put \"twenty\" 10 and 5 into another set purposefully in a diff order.print both and notice the ordering.\n",
        "\n",
        "set1 = {5,10,\"twenty\"}\n",
        "print(set1)\n",
        "\n",
        "set2 ={\"twenty\",10,5}\n",
        "print(set2)"
      ],
      "metadata": {
        "id": "MepnwSP4N4yZ",
        "outputId": "bc29669f-da55-4819-d4fc-9b3956704e0c",
        "colab": {
          "base_uri": "https://localhost:8080/"
        }
      },
      "execution_count": 152,
      "outputs": [
        {
          "output_type": "stream",
          "name": "stdout",
          "text": [
            "{10, 5, 'twenty'}\n",
            "{10, 5, 'twenty'}\n"
          ]
        }
      ]
    },
    {
      "cell_type": "code",
      "source": [
        "type(set1)"
      ],
      "metadata": {
        "id": "td4fY5EzPm6J",
        "outputId": "69843e51-398f-4a85-99b6-6f49b97c48a4",
        "colab": {
          "base_uri": "https://localhost:8080/"
        }
      },
      "execution_count": 153,
      "outputs": [
        {
          "output_type": "execute_result",
          "data": {
            "text/plain": [
              "set"
            ]
          },
          "metadata": {},
          "execution_count": 153
        }
      ]
    },
    {
      "cell_type": "code",
      "source": [
        "#write a prgm that constructs a tuple,one element of which is frozenset.\n",
        "\n",
        "frozen1=frozenset([\"hi\",\"hello\",\"yes\",\"no\"])\n",
        "print(frozen1)\n",
        "type(frozen1)"
      ],
      "metadata": {
        "id": "Q2F_2XN6N41x",
        "outputId": "52cdc9d0-cc4e-4120-918a-f484848cd336",
        "colab": {
          "base_uri": "https://localhost:8080/"
        }
      },
      "execution_count": 158,
      "outputs": [
        {
          "output_type": "stream",
          "name": "stdout",
          "text": [
            "frozenset({'hi', 'yes', 'hello', 'no'})\n"
          ]
        },
        {
          "output_type": "execute_result",
          "data": {
            "text/plain": [
              "frozenset"
            ]
          },
          "metadata": {},
          "execution_count": 158
        }
      ]
    },
    {
      "cell_type": "code",
      "source": [
        "tup2=frozenset([\"hi\",\"hello\",\"yes\",\"no\" ]) , 2 , 3\n",
        "print(tup2)"
      ],
      "metadata": {
        "id": "svq5xMnHQlKp",
        "outputId": "7f835247-21ed-4548-9180-64c905ccd450",
        "colab": {
          "base_uri": "https://localhost:8080/"
        }
      },
      "execution_count": 161,
      "outputs": [
        {
          "output_type": "stream",
          "name": "stdout",
          "text": [
            "(frozenset({'hi', 'yes', 'hello', 'no'}), 2, 3)\n"
          ]
        }
      ]
    },
    {
      "cell_type": "code",
      "source": [
        "type(tup2)"
      ],
      "metadata": {
        "id": "dZCOJIoRQdSV",
        "outputId": "d0038dff-2fe0-45f9-8ef8-888b610d8ab5",
        "colab": {
          "base_uri": "https://localhost:8080/"
        }
      },
      "execution_count": 162,
      "outputs": [
        {
          "output_type": "execute_result",
          "data": {
            "text/plain": [
              "tuple"
            ]
          },
          "metadata": {},
          "execution_count": 162
        }
      ]
    },
    {
      "cell_type": "code",
      "source": [
        "#write a prgm that creates a dictry mapping 1 to \"monday\" , 2 to \"tuesday\",etc.\n",
        "\n",
        "dict1={\"monday\":1, \"tuesday\":2, \"wednesdy\":3}\n",
        "dict1"
      ],
      "metadata": {
        "id": "OqwFqI6kPLAc",
        "outputId": "df0f2a44-f21e-4939-a4c1-6173cb0f246b",
        "colab": {
          "base_uri": "https://localhost:8080/"
        }
      },
      "execution_count": 154,
      "outputs": [
        {
          "output_type": "execute_result",
          "data": {
            "text/plain": [
              "{'monday': 1, 'tuesday': 2, 'wednesdy': 3}"
            ]
          },
          "metadata": {},
          "execution_count": 154
        }
      ]
    },
    {
      "cell_type": "code",
      "source": [
        "type(dict1)"
      ],
      "metadata": {
        "id": "EByRo6swPvHa",
        "outputId": "e1ac74b7-a1da-47e0-d98e-0d6132b375ea",
        "colab": {
          "base_uri": "https://localhost:8080/"
        }
      },
      "execution_count": 155,
      "outputs": [
        {
          "output_type": "execute_result",
          "data": {
            "text/plain": [
              "dict"
            ]
          },
          "metadata": {},
          "execution_count": 155
        }
      ]
    },
    {
      "cell_type": "markdown",
      "source": [
        "Conditions"
      ],
      "metadata": {
        "id": "wbC1gvqERYHi"
      }
    },
    {
      "cell_type": "code",
      "source": [
        "n = int(input(\"Enter a Number : \"))\n"
      ],
      "metadata": {
        "id": "6hzar-nWRaEA",
        "outputId": "8b31c67a-32b6-4a11-c2e8-b8c40201e8f7",
        "colab": {
          "base_uri": "https://localhost:8080/"
        }
      },
      "execution_count": 164,
      "outputs": [
        {
          "name": "stdout",
          "output_type": "stream",
          "text": [
            "Enter a Number : 10\n"
          ]
        }
      ]
    },
    {
      "cell_type": "code",
      "source": [
        "if n < 9:\n",
        "  print(\"its cool\")"
      ],
      "metadata": {
        "id": "BdYr7EG6RaGX"
      },
      "execution_count": 165,
      "outputs": []
    },
    {
      "cell_type": "code",
      "source": [
        "if n > 9:\n",
        "  print(\"its cool\")"
      ],
      "metadata": {
        "id": "NVPjpDghRaJ7",
        "outputId": "db2f5c01-bc0e-4968-e251-bee701c362bd",
        "colab": {
          "base_uri": "https://localhost:8080/"
        }
      },
      "execution_count": 166,
      "outputs": [
        {
          "output_type": "stream",
          "name": "stdout",
          "text": [
            "its cool\n"
          ]
        }
      ]
    },
    {
      "cell_type": "code",
      "source": [
        "n = int(input(\"Enter a Number : \"))\n",
        "if n < 9:\n",
        "  print(\"its cool\")\n"
      ],
      "metadata": {
        "id": "ivHkun5MR3iL",
        "outputId": "f19552dc-4d92-4af4-f4ac-fbea163c19d6",
        "colab": {
          "base_uri": "https://localhost:8080/"
        }
      },
      "execution_count": 169,
      "outputs": [
        {
          "output_type": "stream",
          "name": "stdout",
          "text": [
            "Enter a Number : 5\n",
            "its cool\n"
          ]
        }
      ]
    },
    {
      "cell_type": "code",
      "source": [
        "n = int(input(\"Enter a Number : \"))\n",
        "if n > 9:\n",
        "  print(\"its cool\")\n",
        "else:\n",
        "    print(\"its not cool\")"
      ],
      "metadata": {
        "id": "1N1jNnpxR3kG",
        "outputId": "bc3449ab-14a6-43f8-be0b-96145b670526",
        "colab": {
          "base_uri": "https://localhost:8080/"
        }
      },
      "execution_count": 172,
      "outputs": [
        {
          "output_type": "stream",
          "name": "stdout",
          "text": [
            "Enter a Number : 5\n",
            "its not cool\n"
          ]
        }
      ]
    },
    {
      "cell_type": "code",
      "source": [
        "n = int(input(\"Enter a Number : \"))\n",
        "if n > 9:\n",
        "  print(\"its cool\")\n",
        "else:\n",
        "    print(\"its not cool\")"
      ],
      "metadata": {
        "id": "vLUbohltR3lo",
        "outputId": "237c68cf-dfa8-4191-9c48-ed2d50d003a0",
        "colab": {
          "base_uri": "https://localhost:8080/"
        }
      },
      "execution_count": 173,
      "outputs": [
        {
          "output_type": "stream",
          "name": "stdout",
          "text": [
            "Enter a Number : 11\n",
            "its cool\n"
          ]
        }
      ]
    },
    {
      "cell_type": "markdown",
      "source": [
        "Functions"
      ],
      "metadata": {
        "id": "ev7qnQsVTG6q"
      }
    },
    {
      "cell_type": "code",
      "source": [
        "def all_items_posi(r):\n",
        "  for i in r:\n",
        "    if i <=0:\n",
        "      return False\n",
        "  return True\n",
        "\n",
        "sequences =[[1,2,-0.21], [0.01,2,3]]\n",
        "\n",
        "for seq in sequences:\n",
        "  if not all_items_posi(seq):\n",
        "    print('invalid:',seq)"
      ],
      "metadata": {
        "id": "kq_drDvlR3r-",
        "outputId": "a07dfaf5-6af9-40fd-a98d-f5693735c2e7",
        "colab": {
          "base_uri": "https://localhost:8080/"
        }
      },
      "execution_count": 180,
      "outputs": [
        {
          "output_type": "stream",
          "name": "stdout",
          "text": [
            "invalid: [1, 2, -0.21]\n"
          ]
        }
      ]
    },
    {
      "cell_type": "markdown",
      "source": [
        "Functions:variable"
      ],
      "metadata": {
        "id": "LFr8OPB-VZYj"
      }
    },
    {
      "cell_type": "code",
      "source": [
        "def unspec_args(a,*args):\n",
        "  return \"a=%s, others=%s\" % (a,*args)\n",
        "\n",
        "print(unspec_args('sahana','sadhana',23,False))"
      ],
      "metadata": {
        "id": "FVVrQgKZR3pY",
        "outputId": "245feccd-aa1b-4a8a-c087-f6742978cdb4",
        "colab": {
          "base_uri": "https://localhost:8080/",
          "height": 305
        }
      },
      "execution_count": 176,
      "outputs": [
        {
          "output_type": "error",
          "ename": "TypeError",
          "evalue": "ignored",
          "traceback": [
            "\u001b[0;31m---------------------------------------------------------------------------\u001b[0m",
            "\u001b[0;31mTypeError\u001b[0m                                 Traceback (most recent call last)",
            "\u001b[0;32m<ipython-input-176-c54e859744ac>\u001b[0m in \u001b[0;36m<module>\u001b[0;34m\u001b[0m\n\u001b[1;32m      2\u001b[0m   \u001b[0;32mreturn\u001b[0m \u001b[0;34m\"a=%s, others=%s\"\u001b[0m \u001b[0;34m%\u001b[0m \u001b[0;34m(\u001b[0m\u001b[0ma\u001b[0m\u001b[0;34m,\u001b[0m\u001b[0;34m*\u001b[0m\u001b[0margs\u001b[0m\u001b[0;34m)\u001b[0m\u001b[0;34m\u001b[0m\u001b[0;34m\u001b[0m\u001b[0m\n\u001b[1;32m      3\u001b[0m \u001b[0;34m\u001b[0m\u001b[0m\n\u001b[0;32m----> 4\u001b[0;31m \u001b[0mprint\u001b[0m\u001b[0;34m(\u001b[0m\u001b[0munspec_args\u001b[0m\u001b[0;34m(\u001b[0m\u001b[0;34m'sahana'\u001b[0m\u001b[0;34m,\u001b[0m\u001b[0;34m'sadhana'\u001b[0m\u001b[0;34m,\u001b[0m\u001b[0;36m23\u001b[0m\u001b[0;34m,\u001b[0m\u001b[0;32mFalse\u001b[0m\u001b[0;34m)\u001b[0m\u001b[0;34m)\u001b[0m\u001b[0;34m\u001b[0m\u001b[0;34m\u001b[0m\u001b[0m\n\u001b[0m",
            "\u001b[0;32m<ipython-input-176-c54e859744ac>\u001b[0m in \u001b[0;36munspec_args\u001b[0;34m(a, *args)\u001b[0m\n\u001b[1;32m      1\u001b[0m \u001b[0;32mdef\u001b[0m \u001b[0munspec_args\u001b[0m\u001b[0;34m(\u001b[0m\u001b[0ma\u001b[0m\u001b[0;34m,\u001b[0m\u001b[0;34m*\u001b[0m\u001b[0margs\u001b[0m\u001b[0;34m)\u001b[0m\u001b[0;34m:\u001b[0m\u001b[0;34m\u001b[0m\u001b[0;34m\u001b[0m\u001b[0m\n\u001b[0;32m----> 2\u001b[0;31m   \u001b[0;32mreturn\u001b[0m \u001b[0;34m\"a=%s, others=%s\"\u001b[0m \u001b[0;34m%\u001b[0m \u001b[0;34m(\u001b[0m\u001b[0ma\u001b[0m\u001b[0;34m,\u001b[0m\u001b[0;34m*\u001b[0m\u001b[0margs\u001b[0m\u001b[0;34m)\u001b[0m\u001b[0;34m\u001b[0m\u001b[0;34m\u001b[0m\u001b[0m\n\u001b[0m\u001b[1;32m      3\u001b[0m \u001b[0;34m\u001b[0m\u001b[0m\n\u001b[1;32m      4\u001b[0m \u001b[0mprint\u001b[0m\u001b[0;34m(\u001b[0m\u001b[0munspec_args\u001b[0m\u001b[0;34m(\u001b[0m\u001b[0;34m'sahana'\u001b[0m\u001b[0;34m,\u001b[0m\u001b[0;34m'sadhana'\u001b[0m\u001b[0;34m,\u001b[0m\u001b[0;36m23\u001b[0m\u001b[0;34m,\u001b[0m\u001b[0;32mFalse\u001b[0m\u001b[0;34m)\u001b[0m\u001b[0;34m)\u001b[0m\u001b[0;34m\u001b[0m\u001b[0;34m\u001b[0m\u001b[0m\n",
            "\u001b[0;31mTypeError\u001b[0m: not all arguments converted during string formatting"
          ]
        }
      ]
    },
    {
      "cell_type": "markdown",
      "source": [
        "default values"
      ],
      "metadata": {
        "id": "5W1l9crtVgXH"
      }
    },
    {
      "cell_type": "code",
      "source": [
        "def default_args(a,b='bar',c=13):\n",
        "  return \"a=%s, b=%s, c=%s\" % (a,b,c)\n",
        "\n",
        "print(default_args('apa'))\n",
        "print(default_args('s', b='py'))\n",
        "print(default_args(c=-26, a='apa'))"
      ],
      "metadata": {
        "id": "E5v2J-_mR3vk",
        "outputId": "9456b7bd-cf2c-4e03-b39f-12b4aa9958dc",
        "colab": {
          "base_uri": "https://localhost:8080/"
        }
      },
      "execution_count": 181,
      "outputs": [
        {
          "output_type": "stream",
          "name": "stdout",
          "text": [
            "a=apa, b=bar, c=13\n",
            "a=s, b=py, c=13\n",
            "a=apa, b=bar, c=-26\n"
          ]
        }
      ]
    }
  ],
  "metadata": {
    "colab": {
      "collapsed_sections": [],
      "name": "Welcome To Colaboratory",
      "provenance": [],
      "include_colab_link": true
    },
    "kernelspec": {
      "display_name": "Python 3",
      "name": "python3"
    }
  },
  "nbformat": 4,
  "nbformat_minor": 0
}