{
  "cells": [
    {
      "cell_type": "markdown",
      "metadata": {
        "id": "view-in-github",
        "colab_type": "text"
      },
      "source": [
        "<a href=\"https://colab.research.google.com/github/Sahanaaa01/Angular/blob/new-branch/Welcome_To_Colaboratory.ipynb\" target=\"_parent\"><img src=\"https://colab.research.google.com/assets/colab-badge.svg\" alt=\"Open In Colab\"/></a>"
      ]
    },
    {
      "cell_type": "markdown",
      "source": [
        "sep 29 - Assessment2"
      ],
      "metadata": {
        "id": "SBmqjvVuzw6i"
      }
    },
    {
      "cell_type": "markdown",
      "source": [
        "Calculator Without Function"
      ],
      "metadata": {
        "id": "XA_yLlnjz4Zt"
      }
    },
    {
      "cell_type": "code",
      "source": [
        "number1 = int(input('Enter your first number: '))\n",
        "number2 = int(input('Enter your second number: '))\n",
        "\n",
        "print(number1 + number2)"
      ],
      "metadata": {
        "id": "uD_N-uSW0B9L",
        "outputId": "8262ede5-9f0b-4b1c-9fd5-da257de04001",
        "colab": {
          "base_uri": "https://localhost:8080/",
          "height": 0
        }
      },
      "execution_count": 1,
      "outputs": [
        {
          "output_type": "stream",
          "name": "stdout",
          "text": [
            "Enter your first number: 5\n",
            "Enter your second number: 5\n",
            "10\n"
          ]
        }
      ]
    },
    {
      "cell_type": "code",
      "source": [
        "number1 = int(input('Enter your first number: '))\n",
        "number2 = int(input('Enter your second number: '))\n",
        "\n",
        "# Addition\n",
        "print('{} + {} = '.format(number1, number2))\n",
        "print(number1 + number2)\n",
        "\n",
        "# Subtraction\n",
        "print('{} - {} = '.format(number1, number2))\n",
        "print(number1 - number2)\n",
        "\n",
        "# Multiplication\n",
        "print('{} * {} = '.format(number1, number2))\n",
        "print(number1 * number2)\n",
        "\n",
        "# Division\n",
        "print('{} / {} = '.format(number1, number2))\n",
        "print(number1 / number2)"
      ],
      "metadata": {
        "id": "Ie1evbcO09CV",
        "outputId": "3b039427-6dcb-487e-eb71-9e9c790d4263",
        "colab": {
          "base_uri": "https://localhost:8080/",
          "height": 0
        }
      },
      "execution_count": 2,
      "outputs": [
        {
          "output_type": "stream",
          "name": "stdout",
          "text": [
            "Enter your first number: 5\n",
            "Enter your second number: 5\n",
            "5 + 5 = \n",
            "10\n",
            "5 - 5 = \n",
            "0\n",
            "5 * 5 = \n",
            "25\n",
            "5 / 5 = \n",
            "1.0\n"
          ]
        }
      ]
    },
    {
      "cell_type": "code",
      "source": [
        "operation = input()\n",
        "\n",
        "'''\n",
        "Math operations:\n",
        "+ for addition\n",
        "- for subtraction\n",
        "* for multiplication\n",
        "/ for division\n",
        "'''\n",
        "\n",
        "number_1 = int(input('Enter your first number: '))\n",
        "number_2 = int(input('Enter your second number: '))\n",
        "\n",
        "if operation == '+':\n",
        "    print('{} + {} = '.format(number_1, number_2))\n",
        "    print(number_1 + number_2)\n",
        "\n",
        "elif operation == '-':\n",
        "    print('{} - {} = '.format(number_1, number_2))\n",
        "    print(number_1 - number_2)\n",
        "\n",
        "elif operation == '*':\n",
        "    print('{} * {} = '.format(number_1, number_2))\n",
        "    print(number_1 * number_2)\n",
        "\n",
        "elif operation == '/':\n",
        "    print('{} / {} = '.format(number_1, number_2))\n",
        "    print(number_1 / number_2)\n",
        "else:\n",
        "    print('Please enter a valid operator.')\n"
      ],
      "metadata": {
        "id": "on70dhsB1v--",
        "outputId": "4ffafabd-250b-4564-a71d-e1afb4fda535",
        "colab": {
          "base_uri": "https://localhost:8080/",
          "height": 0
        }
      },
      "execution_count": 13,
      "outputs": [
        {
          "output_type": "stream",
          "name": "stdout",
          "text": [
            "-\n",
            "Enter your first number: 10\n",
            "Enter your second number: 100\n",
            "10 - 100 = \n",
            "-90\n"
          ]
        }
      ]
    },
    {
      "cell_type": "markdown",
      "source": [
        "Calulator with function"
      ],
      "metadata": {
        "id": "Sy8FyHxv3bJm"
      }
    },
    {
      "cell_type": "code",
      "source": [
        "# Program make a simple calculator using function\n",
        "\n",
        "# This function adds two numbers\n",
        "def add(x, y):\n",
        "    return x + y\n",
        "\n",
        "# This function subtracts two numbers\n",
        "def subtract(x, y):\n",
        "    return x - y\n",
        "\n",
        "# This function multiplies two numbers\n",
        "def multiply(x, y):\n",
        "    return x * y\n",
        "\n",
        "# This function divides two numbers\n",
        "def divide(x, y):\n",
        "    return x / y\n",
        "\n",
        "\n",
        "print(\"Select operation:\")\n",
        "print(\"1.Add\")\n",
        "print(\"2.Subtract\")\n",
        "print(\"3.Multiply\")\n",
        "print(\"4.Divide\")\n",
        "\n",
        "while True:\n",
        "    # take input from the user\n",
        "    choice = input(\"Enter choice(1/2/3/4): \")\n",
        "\n",
        "    # check if choice is one of the four options\n",
        "    if choice in ('1', '2', '3', '4'):\n",
        "        num1 = float(input(\"Enter first number: \"))\n",
        "        num2 = float(input(\"Enter second number: \"))\n",
        "\n",
        "        if choice == '1':\n",
        "            print(num1, \"+\", num2, \"=\", add(num1, num2))\n",
        "\n",
        "        elif choice == '2':\n",
        "            print(num1, \"-\", num2, \"=\", subtract(num1, num2))\n",
        "\n",
        "        elif choice == '3':\n",
        "            print(num1, \"*\", num2, \"=\", multiply(num1, num2))\n",
        "\n",
        "        elif choice == '4':\n",
        "            print(num1, \"/\", num2, \"=\", divide(num1, num2))\n",
        "        \n",
        "        # check if user wants another calculation\n",
        "        # break the while loop if answer is no\n",
        "        next_calculation = input(\"Let's do next calculation? (yes/no): \")\n",
        "        if next_calculation == \"no\":\n",
        "          break\n",
        "    \n",
        "    else:\n",
        "        print(\"Invalid Input\")"
      ],
      "metadata": {
        "id": "XKx50KGW253U",
        "outputId": "1e949609-32ef-4b97-9395-5f6db28d71ce",
        "colab": {
          "base_uri": "https://localhost:8080/",
          "height": 0
        }
      },
      "execution_count": 11,
      "outputs": [
        {
          "name": "stdout",
          "output_type": "stream",
          "text": [
            "Select operation:\n",
            "1.Add\n",
            "2.Subtract\n",
            "3.Multiply\n",
            "4.Divide\n",
            "Enter choice(1/2/3/4): 4\n",
            "Enter first number: 10\n",
            "Enter second number: 5\n",
            "10.0 / 5.0 = 2.0\n",
            "Let's do next calculation? (yes/no): yes\n",
            "Enter choice(1/2/3/4): 6\n",
            "Invalid Input\n",
            "Enter choice(1/2/3/4): 4\n",
            "Enter first number: 10\n",
            "Enter second number: 100\n",
            "10.0 / 100.0 = 0.1\n",
            "Let's do next calculation? (yes/no): yes\n",
            "Enter choice(1/2/3/4): 1\n",
            "Enter first number: 10\n",
            "Enter second number: 10\n",
            "10.0 + 10.0 = 20.0\n",
            "Let's do next calculation? (yes/no): yes\n",
            "Enter choice(1/2/3/4): 2\n",
            "Enter first number: 10\n",
            "Enter second number: 5\n",
            "10.0 - 5.0 = 5.0\n",
            "Let's do next calculation? (yes/no): yes\n",
            "Enter choice(1/2/3/4): 3\n",
            "Enter first number: 10\n",
            "Enter second number: 10\n",
            "10.0 * 10.0 = 100.0\n",
            "Let's do next calculation? (yes/no): yes\n",
            "Enter choice(1/2/3/4): 110\n",
            "Invalid Input\n",
            "Enter choice(1/2/3/4): 2\n",
            "Enter first number: 10\n",
            "Enter second number: 20\n",
            "10.0 - 20.0 = -10.0\n",
            "Let's do next calculation? (yes/no): no\n"
          ]
        }
      ]
    }
  ],
  "metadata": {
    "colab": {
      "collapsed_sections": [],
      "name": "Welcome To Colaboratory",
      "provenance": [],
      "include_colab_link": true
    },
    "kernelspec": {
      "display_name": "Python 3",
      "name": "python3"
    }
  },
  "nbformat": 4,
  "nbformat_minor": 0
}